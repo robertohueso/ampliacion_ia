{
 "cells": [
  {
   "cell_type": "markdown",
   "metadata": {},
   "source": [
    "# Pruebas clasificadores"
   ]
  },
  {
   "cell_type": "code",
   "execution_count": 1,
   "metadata": {
    "collapsed": true
   },
   "outputs": [],
   "source": [
    "from clasificadores_lineales import *\n",
    "import numpy as np"
   ]
  },
  {
   "cell_type": "code",
   "execution_count": 2,
   "metadata": {},
   "outputs": [
    {
     "data": {
      "text/plain": [
       "0.95999999999999996"
      ]
     },
     "execution_count": 2,
     "metadata": {},
     "output_type": "execute_result"
    }
   ],
   "source": [
    "# Generamos un conjunto de datos linealmente separables, \n",
    "X1,Y1=genera_conjunto_de_datos_l_s(4,8,400)\n",
    "\n",
    "# Lo partimos en dos trozos:\n",
    "X1e,Y1e=X1[:300],Y1[:300]\n",
    "\n",
    "X1t,Y1t=X1[300:],Y1[300:]\n",
    "\n",
    "# Creamos el clasificador (perceptrón umbral en este caso): \n",
    "clas_pb1=Clasificador_Perceptron([0,1], normalizacion = True)\n",
    "\n",
    "# Lo entrenamos con elprimero de los conjuntos de datos:\n",
    "clas_pb1.entrena(X1e,Y1e,100,rate_decay=True,rate=0.001)\n",
    "\n",
    "# Clasificamos un ejemplo del otro conjunto, y lo comparamos con su clase real:\n",
    "clas_pb1.clasifica(X1t[0]),Y1t[0]\n",
    "\n",
    "sum(clas_pb1.clasifica(x) == y for x,y in zip(X1t,Y1t))/len(Y1t)"
   ]
  },
  {
   "cell_type": "code",
   "execution_count": 3,
   "metadata": {},
   "outputs": [
    {
     "name": "stdout",
     "output_type": "stream",
     "text": [
      "0.71\n"
     ]
    }
   ],
   "source": [
    "#Igual pero con datos NO linealmente separables\n",
    "X2,Y2 = genera_conjunto_de_datos_n_l_s(4,8,400,0.1)\n",
    "\n",
    "X2e,Y2e=X2[:300],Y2[:300]\n",
    "\n",
    "X2t,Y2t=X2[300:],Y2[300:]\n",
    "\n",
    "clas_pb2=Clasificador_Perceptron([0,1])\n",
    "\n",
    "clas_pb2.entrena(X2e,Y2e,100,rate_decay=True,rate=0.001)\n",
    "\n",
    "clas_pb2.clasifica(X2t[0]),Y2t[0]\n",
    "\n",
    "print(sum(clas_pb2.clasifica(x) == y for x,y in zip(X2t,Y2t))/len(Y2t))"
   ]
  },
  {
   "cell_type": "code",
   "execution_count": 4,
   "metadata": {},
   "outputs": [
    {
     "name": "stderr",
     "output_type": "stream",
     "text": [
      "/home/roberto/Documentos/us/practicas/aia/trabajo/clasificadores_lineales.py:347: RuntimeWarning: overflow encountered in exp\n",
      "  return 1 / (1 + np.exp(-wx))\n"
     ]
    },
    {
     "data": {
      "text/plain": [
       "0.93999999999999995"
      ]
     },
     "execution_count": 4,
     "metadata": {},
     "output_type": "execute_result"
    }
   ],
   "source": [
    "X1,Y1=genera_conjunto_de_datos_l_s(4,8,400)\n",
    "\n",
    "# Lo partimos en dos trozos:\n",
    "X1e,Y1e=X1[:300],Y1[:300]\n",
    "\n",
    "X1t,Y1t=X1[300:],Y1[300:]\n",
    "\n",
    "# Creamos el clasificador (perceptrón umbral en este caso): \n",
    "clas_pb1=Clasificador_RL_L2_Batch([0,1])\n",
    "\n",
    "# Lo entrenamos con elprimero de los conjuntos de datos:\n",
    "clas_pb1.entrena(X1e,Y1e,100,rate_decay=True,rate=0.001)\n",
    "\n",
    "# Clasificamos un ejemplo del otro conjunto, y lo comparamos con su clase real:\n",
    "clas_pb1.clasifica(X1t[0]),Y1t[0]\n",
    "\n",
    "sum(clas_pb1.clasifica(x) == y for x,y in zip(X1t,Y1t))/len(Y1t)"
   ]
  },
  {
   "cell_type": "code",
   "execution_count": 5,
   "metadata": {},
   "outputs": [
    {
     "data": {
      "text/plain": [
       "0.93000000000000005"
      ]
     },
     "execution_count": 5,
     "metadata": {},
     "output_type": "execute_result"
    }
   ],
   "source": [
    "X1,Y1=genera_conjunto_de_datos_l_s(4,8,400)\n",
    "\n",
    "# Lo partimos en dos trozos:\n",
    "X1e,Y1e=X1[:300],Y1[:300]\n",
    "\n",
    "X1t,Y1t=X1[300:],Y1[300:]\n",
    "\n",
    "# Creamos el clasificador (perceptrón umbral en este caso): \n",
    "clas_pb1=Clasificador_RL_L2_St([0,1], normalizacion = True)\n",
    "\n",
    "# Lo entrenamos con elprimero de los conjuntos de datos:\n",
    "clas_pb1.entrena(X1e,Y1e,100,rate_decay=True,rate=0.001)\n",
    "\n",
    "# Clasificamos un ejemplo del otro conjunto, y lo comparamos con su clase real:\n",
    "clas_pb1.clasifica(X1t[0]),Y1t[0]\n",
    "\n",
    "sum(clas_pb1.clasifica(x) == y for x,y in zip(X1t,Y1t))/len(Y1t)"
   ]
  },
  {
   "cell_type": "code",
   "execution_count": 6,
   "metadata": {},
   "outputs": [
    {
     "name": "stderr",
     "output_type": "stream",
     "text": [
      "/home/roberto/Documentos/us/practicas/aia/trabajo/clasificadores_lineales.py:347: RuntimeWarning: overflow encountered in exp\n",
      "  return 1 / (1 + np.exp(-wx))\n"
     ]
    },
    {
     "data": {
      "text/plain": [
       "0.93999999999999995"
      ]
     },
     "execution_count": 6,
     "metadata": {},
     "output_type": "execute_result"
    }
   ],
   "source": [
    "X1,Y1=genera_conjunto_de_datos_l_s(4,8,400)\n",
    "\n",
    "# Lo partimos en dos trozos:\n",
    "X1e,Y1e=X1[:300],Y1[:300]\n",
    "\n",
    "X1t,Y1t=X1[300:],Y1[300:]\n",
    "\n",
    "# Creamos el clasificador (perceptrón umbral en este caso): \n",
    "clas_pb1=Clasificador_RL_ML_Batch([0,1])\n",
    "\n",
    "# Lo entrenamos con elprimero de los conjuntos de datos:\n",
    "clas_pb1.entrena(X1e,Y1e,100,rate_decay=True,rate=0.001)\n",
    "\n",
    "# Clasificamos un ejemplo del otro conjunto, y lo comparamos con su clase real:\n",
    "clas_pb1.clasifica(X1t[0]),Y1t[0]\n",
    "\n",
    "sum(clas_pb1.clasifica(x) == y for x,y in zip(X1t,Y1t))/len(Y1t)"
   ]
  },
  {
   "cell_type": "code",
   "execution_count": 7,
   "metadata": {},
   "outputs": [
    {
     "data": {
      "text/plain": [
       "0.96999999999999997"
      ]
     },
     "execution_count": 7,
     "metadata": {},
     "output_type": "execute_result"
    }
   ],
   "source": [
    "X1,Y1=genera_conjunto_de_datos_l_s(4,8,400)\n",
    "\n",
    "# Lo partimos en dos trozos:\n",
    "X1e,Y1e=X1[:300],Y1[:300]\n",
    "\n",
    "X1t,Y1t=X1[300:],Y1[300:]\n",
    "\n",
    "# Creamos el clasificador (perceptrón umbral en este caso): \n",
    "clas_pb1=Clasificador_RL_ML_St([0,1])\n",
    "\n",
    "# Lo entrenamos con elprimero de los conjuntos de datos:\n",
    "clas_pb1.entrena(X1e,Y1e,100,rate_decay=True,rate=0.001)\n",
    "\n",
    "# Clasificamos un ejemplo del otro conjunto, y lo comparamos con su clase real:\n",
    "clas_pb1.clasifica(X1t[0]),Y1t[0]\n",
    "\n",
    "sum(clas_pb1.clasifica(x) == y for x,y in zip(X1t,Y1t))/len(Y1t)"
   ]
  },
  {
   "cell_type": "markdown",
   "metadata": {},
   "source": [
    "### One vs Rest"
   ]
  },
  {
   "cell_type": "code",
   "execution_count": 8,
   "metadata": {},
   "outputs": [
    {
     "name": "stdout",
     "output_type": "stream",
     "text": [
      "[0, 0, 0, 0, 0, 0, 0, 0, 0, 0, 0, 0, 0, 0, 0, 0, 0, 0, 0, 0, 0, 0, 0, 0, 0, 0, 0, 0, 0, 0, 0, 0, 0, 0, 0, 0, 0, 0, 0, 0, 0, 0, 0, 0, 0, 0, 0, 0, 0, 0, 1, 1, 1, 1, 1, 1, 1, 1, 1, 1, 1, 1, 1, 1, 1, 1, 1, 1, 1, 1, 1, 1, 1, 1, 1, 1, 1, 1, 1, 1, 1, 1, 1, 1, 1, 1, 1, 1, 1, 1, 1, 1, 1, 1, 1, 1, 1, 1, 1, 1, 2, 2, 2, 2, 2, 2, 2, 2, 2, 2, 2, 2, 2, 2, 2, 2, 2, 2, 2, 2, 2, 2, 2, 2, 2, 2, 2, 2, 2, 2, 2, 2, 2, 2, 2, 2, 2, 2, 2, 2, 2, 2, 2, 2, 2, 2, 2, 2, 2, 2]\n"
     ]
    }
   ],
   "source": [
    "from iris import *\n",
    "for i, clase in enumerate(iris_entr_clas):\n",
    "    if clase == iris_clases[0]:\n",
    "        iris_entr_clas[i] = 0\n",
    "    elif clase == iris_clases[1]:\n",
    "        iris_entr_clas[i] = 1\n",
    "    else:\n",
    "        iris_entr_clas[i] = 2\n",
    "print(iris_entr_clas)"
   ]
  },
  {
   "cell_type": "code",
   "execution_count": 9,
   "metadata": {},
   "outputs": [
    {
     "name": "stdout",
     "output_type": "stream",
     "text": [
      "['Iris-setosa', 'Iris-versicolor', 'Iris-virginica']\n",
      "0 0\n",
      "2 1\n"
     ]
    }
   ],
   "source": [
    "entr = np.array(iris_entr)\n",
    "entr_clas = np.array(iris_entr_clas)\n",
    "clasificador = Clasificador_RL_OvR(Clasificador_RL_ML_St, [0, 1, 2])\n",
    "clasificador.entrena(entr, entr_clas, 500, rate_decay=True, rate=0.01)\n",
    "print(iris_clases)\n",
    "print(clasificador.clasifica(entr[25]),entr_clas[25])\n",
    "print(clasificador.clasifica(entr[78]),entr_clas[78])"
   ]
  },
  {
   "cell_type": "markdown",
   "metadata": {},
   "source": [
    "### RL Softmax"
   ]
  },
  {
   "cell_type": "code",
   "execution_count": 10,
   "metadata": {},
   "outputs": [
    {
     "name": "stdout",
     "output_type": "stream",
     "text": [
      "['Iris-setosa', 'Iris-versicolor', 'Iris-virginica']\n",
      "0 0\n",
      "0 1\n"
     ]
    }
   ],
   "source": [
    "entr = np.array(iris_entr)\n",
    "entr_clas = np.array(iris_entr_clas)\n",
    "clasificador = Clasificador_RL_Softmax([0, 1, 2])\n",
    "clasificador.entrena(entr, entr_clas, 500, rate_decay=False, rate=0.01)\n",
    "print(iris_clases)\n",
    "print(clasificador.clasifica(entr[25]),entr_clas[25])\n",
    "print(clasificador.clasifica(entr[78]),entr_clas[78])"
   ]
  },
  {
   "cell_type": "markdown",
   "metadata": {},
   "source": [
    "#### Rendimiento"
   ]
  },
  {
   "cell_type": "code",
   "execution_count": 11,
   "metadata": {},
   "outputs": [
    {
     "data": {
      "text/plain": [
       "0.6666666666666666"
      ]
     },
     "execution_count": 11,
     "metadata": {},
     "output_type": "execute_result"
    }
   ],
   "source": [
    "rendimiento(clasificador, entr, entr_clas)"
   ]
  },
  {
   "cell_type": "markdown",
   "metadata": {},
   "source": [
    "## Votos"
   ]
  },
  {
   "cell_type": "code",
   "execution_count": 12,
   "metadata": {
    "scrolled": true
   },
   "outputs": [
    {
     "ename": "NameError",
     "evalue": "name 'votos_entr' is not defined",
     "output_type": "error",
     "traceback": [
      "\u001b[0;31m---------------------------------------------------------------------------\u001b[0m",
      "\u001b[0;31mNameError\u001b[0m                                 Traceback (most recent call last)",
      "\u001b[0;32m<ipython-input-12-a29228baba51>\u001b[0m in \u001b[0;36m<module>\u001b[0;34m()\u001b[0m\n\u001b[0;32m----> 1\u001b[0;31m entrenar_y_rendimiento_multis(500, 0.001, True, [0,1], votos_entr,\n\u001b[0m\u001b[1;32m      2\u001b[0m                               \u001b[0mvotos_entr_clas\u001b[0m\u001b[0;34m,\u001b[0m \u001b[0mvotos_valid\u001b[0m\u001b[0;34m,\u001b[0m\u001b[0;34m\u001b[0m\u001b[0m\n\u001b[1;32m      3\u001b[0m                               votos_valid_clas)\n",
      "\u001b[0;31mNameError\u001b[0m: name 'votos_entr' is not defined"
     ]
    }
   ],
   "source": [
    "entrenar_y_rendimiento_multis(500, 0.001, True, [0,1], votos_entr,\n",
    "                              votos_entr_clas, votos_valid,\n",
    "                              votos_valid_clas)"
   ]
  },
  {
   "cell_type": "code",
   "execution_count": null,
   "metadata": {
    "collapsed": true,
    "scrolled": true
   },
   "outputs": [],
   "source": [
    "entrenar_y_rendimiento_multis(500, 0.001, False, [0,1], votos_entr,\n",
    "                              votos_entr_clas, votos_valid,\n",
    "                              votos_valid_clas)"
   ]
  },
  {
   "cell_type": "code",
   "execution_count": null,
   "metadata": {
    "collapsed": true
   },
   "outputs": [],
   "source": [
    "entrenar_y_rendimiento_multis(500, 0.01, False, [0,1], votos_entr,\n",
    "                              votos_entr_clas, votos_valid,\n",
    "                              votos_valid_clas)"
   ]
  },
  {
   "cell_type": "code",
   "execution_count": null,
   "metadata": {
    "collapsed": true
   },
   "outputs": [],
   "source": [
    "entrenar_y_rendimiento_multis(100, 0.001, True, [0,1], votos_entr,\n",
    "                              votos_entr_clas, votos_valid,\n",
    "                              votos_valid_clas)"
   ]
  },
  {
   "cell_type": "markdown",
   "metadata": {},
   "source": [
    "## MNIST"
   ]
  },
  {
   "cell_type": "code",
   "execution_count": null,
   "metadata": {
    "collapsed": true
   },
   "outputs": [],
   "source": [
    "#softmax = Clasificador_RL_Softmax([0, 1, 2, 3, 4, 5, 6, 7, 8, 9])\n",
    "#softmax.entrena(train, train_clas, 50, rate_decay=True, rate=0.05)\n",
    "ovr = Clasificador_RL_OvR(Clasificador_RL_ML_St, [0, 1, 2, 3, 4, 5, 6, 7, 8, 9])\n"
   ]
  },
  {
   "cell_type": "code",
   "execution_count": null,
   "metadata": {
    "collapsed": true
   },
   "outputs": [],
   "source": [
    "ovr.entrena(train, train_clas, 500, 0.05, True)\n",
    "rendimiento(ovr, validation, validation_clas)"
   ]
  },
  {
   "cell_type": "code",
   "execution_count": null,
   "metadata": {
    "collapsed": true,
    "scrolled": false
   },
   "outputs": [],
   "source": [
    "print(train[5])"
   ]
  },
  {
   "cell_type": "code",
   "execution_count": null,
   "metadata": {
    "collapsed": true
   },
   "outputs": [],
   "source": [
    "sum(ovr.clasifica(x) == y for x,y in zip(validation,validation_clas))/len(validation_clas)"
   ]
  },
  {
   "cell_type": "code",
   "execution_count": null,
   "metadata": {
    "collapsed": true
   },
   "outputs": [],
   "source": [
    "#entrenar_y_rendimiento_multis(200, 0.001, True, [0,1,2,3,4,5,6,7,8,9], train,\n",
    "#                              train_clas, validation,\n",
    "#                              validation_clas)"
   ]
  },
  {
   "cell_type": "markdown",
   "metadata": {},
   "source": [
    "## Pruebas de Numpy"
   ]
  },
  {
   "cell_type": "code",
   "execution_count": null,
   "metadata": {
    "collapsed": true
   },
   "outputs": [],
   "source": [
    "a = np.array([[9987.7,54.8,3],[4,45,20]])\n",
    "media = np.mean(a, axis = 0)\n",
    "desviacion = np.std(a, axis = 0)\n",
    "#a = (a - media) / desviacion\n",
    "for ej in np.nditer(a):\n",
    "    print(ej)"
   ]
  },
  {
   "cell_type": "code",
   "execution_count": 19,
   "metadata": {},
   "outputs": [
    {
     "data": {
      "text/plain": [
       "array([12, 15])"
      ]
     },
     "execution_count": 19,
     "metadata": {},
     "output_type": "execute_result"
    }
   ],
   "source": [
    "x = np.array([[1,2,3],[4,5,6]])\n",
    "y = np.array([[10,11,12],[13,14,15]])\n",
    "y[:, 2]"
   ]
  },
  {
   "cell_type": "code",
   "execution_count": null,
   "metadata": {
    "collapsed": true
   },
   "outputs": [],
   "source": []
  }
 ],
 "metadata": {
  "kernelspec": {
   "display_name": "Python 3",
   "language": "python",
   "name": "python3"
  },
  "language_info": {
   "codemirror_mode": {
    "name": "ipython",
    "version": 3
   },
   "file_extension": ".py",
   "mimetype": "text/x-python",
   "name": "python",
   "nbconvert_exporter": "python",
   "pygments_lexer": "ipython3",
   "version": "3.6.1"
  }
 },
 "nbformat": 4,
 "nbformat_minor": 2
}
