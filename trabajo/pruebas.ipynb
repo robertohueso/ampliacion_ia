{
 "cells": [
  {
   "cell_type": "code",
   "execution_count": 1,
   "metadata": {},
   "outputs": [],
   "source": [
    "from clasificadores_lineales import *\n",
    "import numpy as np"
   ]
  },
  {
   "cell_type": "code",
   "execution_count": 2,
   "metadata": {},
   "outputs": [
    {
     "data": {
      "text/plain": [
       "0.96999999999999997"
      ]
     },
     "execution_count": 2,
     "metadata": {},
     "output_type": "execute_result"
    }
   ],
   "source": [
    "# Generamos un conjunto de datos linealmente separables, \n",
    "X1,Y1=genera_conjunto_de_datos_l_s(4,8,400)\n",
    "\n",
    "# Lo partimos en dos trozos:\n",
    "X1e,Y1e=X1[:300],Y1[:300]\n",
    "\n",
    "X1t,Y1t=X1[300:],Y1[300:]\n",
    "\n",
    "# Creamos el clasificador (perceptrón umbral en este caso): \n",
    "clas_pb1=Clasificador_Perceptron([0,1], normalizacion = True)\n",
    "\n",
    "# Lo entrenamos con elprimero de los conjuntos de datos:\n",
    "clas_pb1.entrena(X1e,Y1e,100,rate_decay=True,rate=0.001)\n",
    "\n",
    "# Clasificamos un ejemplo del otro conjunto, y lo comparamos con su clase real:\n",
    "clas_pb1.clasifica(X1t[0]),Y1t[0]\n",
    "\n",
    "sum(clas_pb1.clasifica(x) == y for x,y in zip(X1t,Y1t))/len(Y1t)"
   ]
  },
  {
   "cell_type": "code",
   "execution_count": 3,
   "metadata": {},
   "outputs": [
    {
     "data": {
      "text/plain": [
       "0.75"
      ]
     },
     "execution_count": 3,
     "metadata": {},
     "output_type": "execute_result"
    }
   ],
   "source": [
    "#Igual pero con datos NO linealmente separables\n",
    "X2,Y2 = genera_conjunto_de_datos_n_l_s(4,8,400,0.1)\n",
    "\n",
    "X2e,Y2e=X2[:300],Y2[:300]\n",
    "\n",
    "X2t,Y2t=X2[300:],Y2[300:]\n",
    "\n",
    "clas_pb2=Clasificador_Perceptron([0,1])\n",
    "\n",
    "clas_pb2.entrena(X2e,Y2e,100,rate_decay=True,rate=0.001)\n",
    "\n",
    "clas_pb2.clasifica(X2t[0]),Y2t[0]\n",
    "\n",
    "sum(clas_pb2.clasifica(x) == y for x,y in zip(X2t,Y2t))/len(Y2t)"
   ]
  },
  {
   "cell_type": "code",
   "execution_count": 4,
   "metadata": {},
   "outputs": [
    {
     "name": "stdout",
     "output_type": "stream",
     "text": [
      "[ 4995.85    49.9     11.5 ] [  4.99185000e+03   4.90000000e+00   8.50000000e+00]\n"
     ]
    },
    {
     "data": {
      "text/plain": [
       "array([[ 1.,  1., -1.],\n",
       "       [-1., -1.,  1.]])"
      ]
     },
     "execution_count": 4,
     "metadata": {},
     "output_type": "execute_result"
    }
   ],
   "source": [
    "a = np.array([[9987.7,54.8,3],[4,45,20]])\n",
    "media = np.mean(a, axis = 0)\n",
    "desviacion = np.std(a, axis = 0)\n",
    "a = (a - media) / desviacion\n",
    "print(media, desviacion)\n",
    "a"
   ]
  },
  {
   "cell_type": "code",
   "execution_count": null,
   "metadata": {
    "collapsed": true
   },
   "outputs": [],
   "source": []
  }
 ],
 "metadata": {
  "kernelspec": {
   "display_name": "Python 3",
   "language": "python",
   "name": "python3"
  },
  "language_info": {
   "codemirror_mode": {
    "name": "ipython",
    "version": 3
   },
   "file_extension": ".py",
   "mimetype": "text/x-python",
   "name": "python",
   "nbconvert_exporter": "python",
   "pygments_lexer": "ipython3",
   "version": "3.6.1"
  }
 },
 "nbformat": 4,
 "nbformat_minor": 2
}
